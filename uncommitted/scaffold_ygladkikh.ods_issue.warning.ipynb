{
 "cells": [
  {
   "cell_type": "markdown",
   "id": "d584eff1",
   "metadata": {},
   "source": [
    "# Scaffold a new Expectation Suite (Experimental)\n",
    "This process helps you avoid writing lots of boilerplate when authoring suites by allowing you to select columns and other factors that you care about and letting a profiler write some candidate expectations for you to adjust.\n",
    "\n",
    "**Expectation Suite Name**: `ygladkikh.ods_issue.warning`\n",
    "\n",
    "We'd love it if you'd **reach out to us on** the [**Great Expectations Slack Channel**](https://greatexpectations.io/slack)!"
   ]
  },
  {
   "cell_type": "code",
   "execution_count": 1,
   "id": "1c2091df",
   "metadata": {},
   "outputs": [
    {
     "data": {
      "text/html": [
       "<div>\n",
       "<style scoped>\n",
       "    .dataframe tbody tr th:only-of-type {\n",
       "        vertical-align: middle;\n",
       "    }\n",
       "\n",
       "    .dataframe tbody tr th {\n",
       "        vertical-align: top;\n",
       "    }\n",
       "\n",
       "    .dataframe thead th {\n",
       "        text-align: right;\n",
       "    }\n",
       "</style>\n",
       "<table border=\"1\" class=\"dataframe\">\n",
       "  <thead>\n",
       "    <tr style=\"text-align: right;\">\n",
       "      <th></th>\n",
       "      <th>user_id</th>\n",
       "      <th>start_time</th>\n",
       "      <th>end_time</th>\n",
       "      <th>title</th>\n",
       "      <th>description</th>\n",
       "      <th>service</th>\n",
       "    </tr>\n",
       "  </thead>\n",
       "  <tbody>\n",
       "    <tr>\n",
       "      <th>0</th>\n",
       "      <td>10810</td>\n",
       "      <td>2013-06-07 22:22:31</td>\n",
       "      <td>2014-05-01 22:22:31</td>\n",
       "      <td>fzMhaoXmuWfayA</td>\n",
       "      <td>mhhxgozcveAglp</td>\n",
       "      <td>Connect</td>\n",
       "    </tr>\n",
       "    <tr>\n",
       "      <th>1</th>\n",
       "      <td>10100</td>\n",
       "      <td>2013-01-08 22:22:31</td>\n",
       "      <td>2015-12-14 22:22:31</td>\n",
       "      <td>zwqbvwebygGuld</td>\n",
       "      <td>eqbmxknweuopih</td>\n",
       "      <td>Disconnect</td>\n",
       "    </tr>\n",
       "    <tr>\n",
       "      <th>2</th>\n",
       "      <td>11120</td>\n",
       "      <td>2013-10-10 22:22:31</td>\n",
       "      <td>2019-09-06 22:22:31</td>\n",
       "      <td>olhwhGkjxhnwvv</td>\n",
       "      <td>pZezeeFalmBqwu</td>\n",
       "      <td>Disconnect</td>\n",
       "    </tr>\n",
       "    <tr>\n",
       "      <th>3</th>\n",
       "      <td>10780</td>\n",
       "      <td>2013-08-10 22:22:31</td>\n",
       "      <td>2020-12-22 22:22:31</td>\n",
       "      <td>wxjmxoxwidhhbf</td>\n",
       "      <td>ceqyknqdvabfbB</td>\n",
       "      <td>Disconnect</td>\n",
       "    </tr>\n",
       "    <tr>\n",
       "      <th>4</th>\n",
       "      <td>10070</td>\n",
       "      <td>2013-09-16 22:22:31</td>\n",
       "      <td>2018-02-20 22:22:31</td>\n",
       "      <td>qvmouKpieydpxy</td>\n",
       "      <td>jrylyMygEeyzqU</td>\n",
       "      <td>Disconnect</td>\n",
       "    </tr>\n",
       "  </tbody>\n",
       "</table>\n",
       "</div>"
      ],
      "text/plain": [
       "   user_id          start_time            end_time           title  \\\n",
       "0    10810 2013-06-07 22:22:31 2014-05-01 22:22:31  fzMhaoXmuWfayA   \n",
       "1    10100 2013-01-08 22:22:31 2015-12-14 22:22:31  zwqbvwebygGuld   \n",
       "2    11120 2013-10-10 22:22:31 2019-09-06 22:22:31  olhwhGkjxhnwvv   \n",
       "3    10780 2013-08-10 22:22:31 2020-12-22 22:22:31  wxjmxoxwidhhbf   \n",
       "4    10070 2013-09-16 22:22:31 2018-02-20 22:22:31  qvmouKpieydpxy   \n",
       "\n",
       "      description     service  \n",
       "0  mhhxgozcveAglp     Connect  \n",
       "1  eqbmxknweuopih  Disconnect  \n",
       "2  pZezeeFalmBqwu  Disconnect  \n",
       "3  ceqyknqdvabfbB  Disconnect  \n",
       "4  jrylyMygEeyzqU  Disconnect  "
      ]
     },
     "execution_count": 1,
     "metadata": {},
     "output_type": "execute_result"
    }
   ],
   "source": [
    "import great_expectations as ge\n",
    "from great_expectations.checkpoint import LegacyCheckpoint\n",
    "from great_expectations.profile.user_configurable_profiler import UserConfigurableProfiler\n",
    "from great_expectations.data_context.types.resource_identifiers import ValidationResultIdentifier\n",
    "\n",
    "context = ge.data_context.DataContext()\n",
    "\n",
    "expectation_suite_name = \"ygladkikh.ods_issue.warning\"\n",
    "\n",
    "# Wipe the suite clean to prevent unwanted expectations in the batch\n",
    "suite = context.create_expectation_suite(expectation_suite_name, overwrite_existing=True)\n",
    "\n",
    "batch_kwargs = {'table': 'ods_issue', 'schema': 'ygladkikh', 'data_asset_name': 'ygladkikh.ods_issue', 'datasource': 'green'}\n",
    "batch = context.get_batch(batch_kwargs, suite)\n",
    "batch.head()"
   ]
  },
  {
   "cell_type": "markdown",
   "id": "6deb7993",
   "metadata": {},
   "source": [
    "## Select the columns on which you would like to scaffold expectations and those which you would like to ignore.\n",
    "\n",
    "Great Expectations will choose which expectations might make sense for a column based on the **data type** and **cardinality** of the data in each selected column.\n",
    "\n",
    "Simply comment out columns that are important and should be included. You can select multiple lines and\n",
    "use a jupyter keyboard shortcut to toggle each line: **Linux/Windows**:\n",
    "`Ctrl-/`, **macOS**: `Cmd-/`"
   ]
  },
  {
   "cell_type": "code",
   "execution_count": 2,
   "id": "4fb80ca4",
   "metadata": {},
   "outputs": [],
   "source": [
    "ignored_columns = [\n",
    "#     'user_id',\n",
    "#     'start_time',\n",
    "#     'end_time',\n",
    "#     'title',\n",
    "#     'description',\n",
    "#     'service'\n",
    "]"
   ]
  },
  {
   "cell_type": "markdown",
   "id": "878ebdc9",
   "metadata": {},
   "source": [
    "## Run the scaffolder\n",
    "\n",
    "The suites generated here are **not meant to be production suites** - they are **scaffolds to build upon**.\n",
    "\n",
    "**To get to a production grade suite, you will definitely want to [edit this\n",
    "suite](https://docs.greatexpectations.io/en/latest/guides/how_to_guides/creating_and_editing_expectations/how_to_edit_an_expectation_suite_using_a_disposable_notebook.html?utm_source=notebook&utm_medium=scaffold_expectations)\n",
    "after scaffolding gets you close to what you want.**\n",
    "\n",
    "This is highly configurable depending on your goals.\n",
    "You can ignore columns or exclude certain expectations, specify a threshold for creating value set expectations, or even specify semantic types for a given column.\n",
    "You can find more information about [how to configure this profiler, including a list of the expectations that it uses, here.](https://docs.greatexpectations.io/en/latest/guides/how_to_guides/creating_and_editing_expectations/how_to_create_an_expectation_suite_with_the_user_configurable_profiler.html)\n",
    "\n"
   ]
  },
  {
   "cell_type": "code",
   "execution_count": null,
   "id": "88dc4824",
   "metadata": {},
   "outputs": [],
   "source": [
    "profiler = UserConfigurableProfiler(profile_dataset=batch,\n",
    "    ignored_columns=ignored_columns,\n",
    "    excluded_expectations=None,\n",
    "    not_null_only=False,\n",
    "    primary_or_compound_key=False,\n",
    "    semantic_types_dict=None,\n",
    "    table_expectations_only=False,\n",
    "    value_set_threshold=\"MANY\",\n",
    "    )\n",
    "\n",
    "suite = profiler.build_suite()"
   ]
  },
  {
   "cell_type": "markdown",
   "id": "178dd534",
   "metadata": {},
   "source": [
    "## Save & review the scaffolded Expectation Suite\n",
    "\n",
    "Let's save the scaffolded expectation suite as a JSON file in the\n",
    "`great_expectations/expectations` directory of your project and rebuild the Data\n",
    " Docs site to make it easy to review the scaffolded suite."
   ]
  },
  {
   "cell_type": "code",
   "execution_count": 3,
   "id": "feb68f98",
   "metadata": {},
   "outputs": [],
   "source": [
    "context.save_expectation_suite(suite, expectation_suite_name)\n",
    "\n",
    "results = LegacyCheckpoint(\n",
    "    name=\"_temp_checkpoint\",\n",
    "    data_context=context,\n",
    "    batches=[\n",
    "        {\n",
    "          \"batch_kwargs\": batch_kwargs,\n",
    "          \"expectation_suite_names\": [expectation_suite_name]\n",
    "        }\n",
    "    ]\n",
    ").run()\n",
    "validation_result_identifier = results.list_validation_result_identifiers()[0]\n",
    "context.build_data_docs()\n",
    "context.open_data_docs(validation_result_identifier)"
   ]
  },
  {
   "cell_type": "markdown",
   "id": "58755b5a",
   "metadata": {},
   "source": [
    "## Next steps\n",
    "After you review this scaffolded Expectation Suite in Data Docs you\n",
    "should edit this suite to make finer grained adjustments to the expectations.\n",
    "This can be done by running `great_expectations suite edit ygladkikh.ods_issue.warning`."
   ]
  }
 ],
 "metadata": {
  "kernelspec": {
   "display_name": "Python 3",
   "language": "python",
   "name": "python3"
  },
  "language_info": {
   "codemirror_mode": {
    "name": "ipython",
    "version": 3
   },
   "file_extension": ".py",
   "mimetype": "text/x-python",
   "name": "python",
   "nbconvert_exporter": "python",
   "pygments_lexer": "ipython3",
   "version": "3.8.6"
  }
 },
 "nbformat": 4,
 "nbformat_minor": 5
}
