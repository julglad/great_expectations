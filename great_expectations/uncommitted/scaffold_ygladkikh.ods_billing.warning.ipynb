{
 "cells": [
  {
   "cell_type": "markdown",
   "id": "592a4547",
   "metadata": {},
   "source": [
    "# Scaffold a new Expectation Suite (Experimental)\n",
    "This process helps you avoid writing lots of boilerplate when authoring suites by allowing you to select columns and other factors that you care about and letting a profiler write some candidate expectations for you to adjust.\n",
    "\n",
    "**Expectation Suite Name**: `ygladkikh.ods_billing.warning`\n",
    "\n",
    "We'd love it if you'd **reach out to us on** the [**Great Expectations Slack Channel**](https://greatexpectations.io/slack)!"
   ]
  },
  {
   "cell_type": "code",
   "execution_count": null,
   "id": "60239b8c",
   "metadata": {},
   "outputs": [],
   "source": [
    "import great_expectations as ge\n",
    "from great_expectations.checkpoint import LegacyCheckpoint\n",
    "from great_expectations.profile.user_configurable_profiler import UserConfigurableProfiler\n",
    "from great_expectations.data_context.types.resource_identifiers import ValidationResultIdentifier\n",
    "\n",
    "context = ge.data_context.DataContext()\n",
    "\n",
    "expectation_suite_name = \"ygladkikh.ods_billing.warning\"\n",
    "\n",
    "# Wipe the suite clean to prevent unwanted expectations in the batch\n",
    "suite = context.create_expectation_suite(expectation_suite_name, overwrite_existing=True)\n",
    "\n",
    "batch_kwargs = {'table': 'ods_billing', 'schema': 'ygladkikh', 'data_asset_name': 'ygladkikh.ods_billing', 'datasource': 'green'}\n",
    "batch = context.get_batch(batch_kwargs, suite)\n",
    "batch.head()"
   ]
  },
  {
   "cell_type": "markdown",
   "id": "8da787c8",
   "metadata": {},
   "source": [
    "## Select the columns on which you would like to scaffold expectations and those which you would like to ignore.\n",
    "\n",
    "Great Expectations will choose which expectations might make sense for a column based on the **data type** and **cardinality** of the data in each selected column.\n",
    "\n",
    "Simply comment out columns that are important and should be included. You can select multiple lines and\n",
    "use a jupyter keyboard shortcut to toggle each line: **Linux/Windows**:\n",
    "`Ctrl-/`, **macOS**: `Cmd-/`"
   ]
  },
  {
   "cell_type": "code",
   "execution_count": null,
   "id": "b37d687d",
   "metadata": {},
   "outputs": [],
   "source": [
    "ignored_columns = [\n",
    "    'user_id',\n",
    "    'billing_period',\n",
    "    'service',\n",
    "    'tariff',\n",
    "    'sum',\n",
    "    'created_at'\n",
    "]"
   ]
  },
  {
   "cell_type": "markdown",
   "id": "c3354f3a",
   "metadata": {},
   "source": [
    "## Run the scaffolder\n",
    "\n",
    "The suites generated here are **not meant to be production suites** - they are **scaffolds to build upon**.\n",
    "\n",
    "**To get to a production grade suite, you will definitely want to [edit this\n",
    "suite](https://docs.greatexpectations.io/en/latest/guides/how_to_guides/creating_and_editing_expectations/how_to_edit_an_expectation_suite_using_a_disposable_notebook.html?utm_source=notebook&utm_medium=scaffold_expectations)\n",
    "after scaffolding gets you close to what you want.**\n",
    "\n",
    "This is highly configurable depending on your goals.\n",
    "You can ignore columns or exclude certain expectations, specify a threshold for creating value set expectations, or even specify semantic types for a given column.\n",
    "You can find more information about [how to configure this profiler, including a list of the expectations that it uses, here.](https://docs.greatexpectations.io/en/latest/guides/how_to_guides/creating_and_editing_expectations/how_to_create_an_expectation_suite_with_the_user_configurable_profiler.html)\n",
    "\n"
   ]
  },
  {
   "cell_type": "code",
   "execution_count": null,
   "id": "a8ffa440",
   "metadata": {},
   "outputs": [],
   "source": [
    "profiler = UserConfigurableProfiler(profile_dataset=batch,\n",
    "    ignored_columns=ignored_columns,\n",
    "    excluded_expectations=None,\n",
    "    not_null_only=False,\n",
    "    primary_or_compound_key=False,\n",
    "    semantic_types_dict=None,\n",
    "    table_expectations_only=False,\n",
    "    value_set_threshold=\"MANY\",\n",
    "    )\n",
    "\n",
    "suite = profiler.build_suite()"
   ]
  },
  {
   "cell_type": "markdown",
   "id": "133d2c0a",
   "metadata": {},
   "source": [
    "## Save & review the scaffolded Expectation Suite\n",
    "\n",
    "Let's save the scaffolded expectation suite as a JSON file in the\n",
    "`great_expectations/expectations` directory of your project and rebuild the Data\n",
    " Docs site to make it easy to review the scaffolded suite."
   ]
  },
  {
   "cell_type": "code",
   "execution_count": null,
   "id": "256bf538",
   "metadata": {},
   "outputs": [],
   "source": [
    "context.save_expectation_suite(suite, expectation_suite_name)\n",
    "\n",
    "results = LegacyCheckpoint(\n",
    "    name=\"_temp_checkpoint\",\n",
    "    data_context=context,\n",
    "    batches=[\n",
    "        {\n",
    "          \"batch_kwargs\": batch_kwargs,\n",
    "          \"expectation_suite_names\": [expectation_suite_name]\n",
    "        }\n",
    "    ]\n",
    ").run()\n",
    "validation_result_identifier = results.list_validation_result_identifiers()[0]\n",
    "context.build_data_docs()\n",
    "context.open_data_docs(validation_result_identifier)"
   ]
  },
  {
   "cell_type": "markdown",
   "id": "9ee17d78",
   "metadata": {},
   "source": [
    "## Next steps\n",
    "After you review this scaffolded Expectation Suite in Data Docs you\n",
    "should edit this suite to make finer grained adjustments to the expectations.\n",
    "This can be done by running `great_expectations suite edit ygladkikh.ods_billing.warning`."
   ]
  }
 ],
 "metadata": {},
 "nbformat": 4,
 "nbformat_minor": 5
}
