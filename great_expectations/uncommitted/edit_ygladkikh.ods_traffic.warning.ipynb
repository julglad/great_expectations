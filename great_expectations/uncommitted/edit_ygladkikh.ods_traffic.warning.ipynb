{
 "cells": [
  {
   "cell_type": "markdown",
   "id": "d1861dee",
   "metadata": {},
   "source": [
    "# Edit Your Expectation Suite\n",
    "Use this notebook to recreate and modify your expectation suite:\n",
    "\n",
    "**Expectation Suite Name**: `ygladkikh.ods_traffic.warning`\n",
    "\n",
    "We'd love it if you **reach out to us on** the [**Great Expectations Slack Channel**](https://greatexpectations.io/slack)"
   ]
  },
  {
   "cell_type": "code",
   "execution_count": null,
   "id": "dd3d56a2",
   "metadata": {},
   "outputs": [],
   "source": [
    "import datetime\n",
    "import great_expectations as ge\n",
    "import great_expectations.jupyter_ux\n",
    "from great_expectations.checkpoint import LegacyCheckpoint\n",
    "from great_expectations.data_context.types.resource_identifiers import ValidationResultIdentifier\n",
    "\n",
    "context = ge.data_context.DataContext()\n",
    "\n",
    "# Feel free to change the name of your suite here. Renaming this will not\n",
    "# remove the other one.\n",
    "expectation_suite_name = \"ygladkikh.ods_traffic.warning\"\n",
    "suite = context.get_expectation_suite(expectation_suite_name)\n",
    "suite.expectations = []\n",
    "\n",
    "batch_kwargs = {'table': 'ods_traffic', 'schema': 'ygladkikh', 'data_asset_name': 'ygladkikh.ods_traffic', 'datasource': 'green'}\n",
    "batch = context.get_batch(batch_kwargs, suite)\n",
    "batch.head()"
   ]
  },
  {
   "cell_type": "markdown",
   "id": "57576f80",
   "metadata": {},
   "source": [
    "## Create & Edit Expectations\n",
    "\n",
    "Add expectations by calling specific expectation methods on the `batch` object. They all begin with `.expect_` which makes autocompleting easy using tab.\n",
    "\n",
    "You can see all the available expectations in the **[expectation glossary](https://docs.greatexpectations.io/en/latest/reference/glossary_of_expectations.html?utm_source=notebook&utm_medium=create_expectations)**."
   ]
  },
  {
   "cell_type": "markdown",
   "id": "fc050969",
   "metadata": {},
   "source": [
    "### Table Expectation(s)"
   ]
  },
  {
   "cell_type": "code",
   "execution_count": null,
   "id": "241647cb",
   "metadata": {},
   "outputs": [],
   "source": [
    "batch.expect_table_columns_to_match_ordered_list(column_list=['user_id', 'time_stamp', 'device_serial', 'device_ip_addr', 'bytes_sent', 'bytes_received'])"
   ]
  },
  {
   "cell_type": "markdown",
   "id": "6507862a",
   "metadata": {},
   "source": [
    "### Column Expectation(s)"
   ]
  },
  {
   "cell_type": "markdown",
   "id": "353c365c",
   "metadata": {},
   "source": [
    "#### `time_stamp`"
   ]
  },
  {
   "cell_type": "code",
   "execution_count": null,
   "id": "bae0ed05",
   "metadata": {},
   "outputs": [],
   "source": [
    "batch.expect_column_values_to_not_be_null(column='time_stamp')"
   ]
  },
  {
   "cell_type": "code",
   "execution_count": null,
   "id": "dc292447",
   "metadata": {},
   "outputs": [],
   "source": [
    "batch.expect_column_values_to_be_in_type_list(column='time_stamp', type_list=['int8', 'BIGINT'])"
   ]
  },
  {
   "cell_type": "markdown",
   "id": "3f0a0444",
   "metadata": {},
   "source": [
    "#### `user_id`"
   ]
  },
  {
   "cell_type": "code",
   "execution_count": null,
   "id": "f8938fd3",
   "metadata": {},
   "outputs": [],
   "source": [
    "batch.expect_column_values_to_not_be_null(column='user_id')"
   ]
  },
  {
   "cell_type": "code",
   "execution_count": null,
   "id": "1bb01422",
   "metadata": {},
   "outputs": [],
   "source": [
    "batch.expect_column_proportion_of_unique_values_to_be_between(column='user_id', max_value=0.1, min_value=0.01)"
   ]
  },
  {
   "cell_type": "code",
   "execution_count": null,
   "id": "bd5c26e3",
   "metadata": {},
   "outputs": [],
   "source": [
    "batch.expect_column_values_to_be_in_type_list(column='user_id', type_list=['int8', 'BIGINT'])"
   ]
  },
  {
   "cell_type": "markdown",
   "id": "76167f43",
   "metadata": {},
   "source": [
    "#### `device_serial`"
   ]
  },
  {
   "cell_type": "code",
   "execution_count": null,
   "id": "823ab3ae",
   "metadata": {},
   "outputs": [],
   "source": [
    "batch.expect_column_values_to_match_regex(column='device_serial', regex='d[0-9]{3}')"
   ]
  },
  {
   "cell_type": "code",
   "execution_count": null,
   "id": "5d4a2f67",
   "metadata": {},
   "outputs": [],
   "source": [
    "batch.expect_column_values_to_not_be_null(column='device_serial')"
   ]
  },
  {
   "cell_type": "markdown",
   "id": "2b29885a",
   "metadata": {},
   "source": [
    "#### `device_ip_addr`"
   ]
  },
  {
   "cell_type": "code",
   "execution_count": null,
   "id": "d3795e3d",
   "metadata": {},
   "outputs": [],
   "source": [
    "batch.expect_column_values_to_match_regex(column='device_ip_addr', regex='[0-9]{1,3}.[0-9]{1,3}.[0-9]{1,3}.[0-9]{1,3}')"
   ]
  },
  {
   "cell_type": "code",
   "execution_count": null,
   "id": "9fe57674",
   "metadata": {},
   "outputs": [],
   "source": [
    "batch.expect_column_values_to_not_be_null(column='device_ip_addr')"
   ]
  },
  {
   "cell_type": "markdown",
   "id": "cdaa775c",
   "metadata": {},
   "source": [
    "#### `bytes_sent`"
   ]
  },
  {
   "cell_type": "code",
   "execution_count": null,
   "id": "d5afae35",
   "metadata": {},
   "outputs": [],
   "source": [
    "batch.expect_column_values_to_not_be_null(column='bytes_sent')"
   ]
  },
  {
   "cell_type": "code",
   "execution_count": null,
   "id": "1f3ef196",
   "metadata": {},
   "outputs": [],
   "source": [
    "batch.expect_column_values_to_be_in_type_list(column='bytes_sent', type_list=['int8', 'BIGINT'])"
   ]
  },
  {
   "cell_type": "markdown",
   "id": "5764f608",
   "metadata": {},
   "source": [
    "#### `bytes_received`"
   ]
  },
  {
   "cell_type": "code",
   "execution_count": null,
   "id": "254a05c2",
   "metadata": {},
   "outputs": [],
   "source": [
    "batch.expect_column_values_to_not_be_null(column='bytes_received')"
   ]
  },
  {
   "cell_type": "code",
   "execution_count": null,
   "id": "8a580b76",
   "metadata": {},
   "outputs": [],
   "source": [
    "batch.expect_column_values_to_be_in_type_list(column='bytes_received', type_list=['int8', 'BIGINT'])"
   ]
  },
  {
   "cell_type": "markdown",
   "id": "a0d9b455",
   "metadata": {},
   "source": [
    "## Save & Review Your Expectations\n",
    "\n",
    "Let's save the expectation suite as a JSON file in the `great_expectations/expectations` directory of your project.\n",
    "If you decide not to save some expectations that you created, use [remove_expectation method](https://docs.greatexpectations.io/en/latest/autoapi/great_expectations/data_asset/index.html?highlight=remove_expectation&utm_source=notebook&utm_medium=edit_expectations#great_expectations.data_asset.DataAsset.remove_expectation).\n",
    "\n",
    "Let's now rebuild your Data Docs, which helps you communicate about your data with both machines and humans."
   ]
  },
  {
   "cell_type": "code",
   "execution_count": null,
   "id": "90222486",
   "metadata": {},
   "outputs": [],
   "source": [
    "batch.save_expectation_suite(discard_failed_expectations=False)\n",
    "\n",
    "results = LegacyCheckpoint(\n",
    "    name=\"_temp_checkpoint\",\n",
    "    data_context=context,\n",
    "    batches=[\n",
    "        {\n",
    "          \"batch_kwargs\": batch_kwargs,\n",
    "          \"expectation_suite_names\": [expectation_suite_name]\n",
    "        }\n",
    "    ]\n",
    ").run()\n",
    "validation_result_identifier = results.list_validation_result_identifiers()[0]\n",
    "context.build_data_docs()\n",
    "context.open_data_docs(validation_result_identifier)"
   ]
  }
 ],
 "metadata": {
  "kernelspec": {
   "display_name": "Python 3",
   "language": "python",
   "name": "python3"
  },
  "language_info": {
   "codemirror_mode": {
    "name": "ipython",
    "version": 3
   },
   "file_extension": ".py",
   "mimetype": "text/x-python",
   "name": "python",
   "nbconvert_exporter": "python",
   "pygments_lexer": "ipython3",
   "version": "3.8.6"
  }
 },
 "nbformat": 4,
 "nbformat_minor": 5
}
