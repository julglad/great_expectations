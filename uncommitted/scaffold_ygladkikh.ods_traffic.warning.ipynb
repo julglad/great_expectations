{
 "cells": [
  {
   "cell_type": "markdown",
   "id": "f16b0307",
   "metadata": {},
   "source": [
    "# Scaffold a new Expectation Suite (Experimental)\n",
    "This process helps you avoid writing lots of boilerplate when authoring suites by allowing you to select columns and other factors that you care about and letting a profiler write some candidate expectations for you to adjust.\n",
    "\n",
    "**Expectation Suite Name**: `ygladkikh.ods_traffic.warning`\n",
    "\n",
    "We'd love it if you'd **reach out to us on** the [**Great Expectations Slack Channel**](https://greatexpectations.io/slack)!"
   ]
  },
  {
   "cell_type": "code",
   "execution_count": 1,
   "id": "c820383f",
   "metadata": {},
   "outputs": [
    {
     "data": {
      "text/html": [
       "<div>\n",
       "<style scoped>\n",
       "    .dataframe tbody tr th:only-of-type {\n",
       "        vertical-align: middle;\n",
       "    }\n",
       "\n",
       "    .dataframe tbody tr th {\n",
       "        vertical-align: top;\n",
       "    }\n",
       "\n",
       "    .dataframe thead th {\n",
       "        text-align: right;\n",
       "    }\n",
       "</style>\n",
       "<table border=\"1\" class=\"dataframe\">\n",
       "  <thead>\n",
       "    <tr style=\"text-align: right;\">\n",
       "      <th></th>\n",
       "      <th>user_id</th>\n",
       "      <th>time_stamp</th>\n",
       "      <th>device_serial</th>\n",
       "      <th>device_ip_addr</th>\n",
       "      <th>bytes_sent</th>\n",
       "      <th>bytes_received</th>\n",
       "    </tr>\n",
       "  </thead>\n",
       "  <tbody>\n",
       "    <tr>\n",
       "      <th>0</th>\n",
       "      <td>10680</td>\n",
       "      <td>1373826151268</td>\n",
       "      <td>d006</td>\n",
       "      <td>115.160.51.72</td>\n",
       "      <td>45902</td>\n",
       "      <td>38187</td>\n",
       "    </tr>\n",
       "    <tr>\n",
       "      <th>1</th>\n",
       "      <td>10010</td>\n",
       "      <td>1385922151268</td>\n",
       "      <td>d008</td>\n",
       "      <td>177.124.55.174</td>\n",
       "      <td>11349</td>\n",
       "      <td>20400</td>\n",
       "    </tr>\n",
       "    <tr>\n",
       "      <th>2</th>\n",
       "      <td>10390</td>\n",
       "      <td>1365531751268</td>\n",
       "      <td>d008</td>\n",
       "      <td>68.169.111.31</td>\n",
       "      <td>38072</td>\n",
       "      <td>25726</td>\n",
       "    </tr>\n",
       "    <tr>\n",
       "      <th>3</th>\n",
       "      <td>10520</td>\n",
       "      <td>1358619751268</td>\n",
       "      <td>d009</td>\n",
       "      <td>117.1.171.81</td>\n",
       "      <td>46328</td>\n",
       "      <td>4714</td>\n",
       "    </tr>\n",
       "    <tr>\n",
       "      <th>4</th>\n",
       "      <td>10240</td>\n",
       "      <td>1381602151268</td>\n",
       "      <td>d004</td>\n",
       "      <td>122.144.11.59</td>\n",
       "      <td>21526</td>\n",
       "      <td>22827</td>\n",
       "    </tr>\n",
       "  </tbody>\n",
       "</table>\n",
       "</div>"
      ],
      "text/plain": [
       "   user_id     time_stamp device_serial  device_ip_addr  bytes_sent  \\\n",
       "0    10680  1373826151268          d006   115.160.51.72       45902   \n",
       "1    10010  1385922151268          d008  177.124.55.174       11349   \n",
       "2    10390  1365531751268          d008   68.169.111.31       38072   \n",
       "3    10520  1358619751268          d009    117.1.171.81       46328   \n",
       "4    10240  1381602151268          d004   122.144.11.59       21526   \n",
       "\n",
       "   bytes_received  \n",
       "0           38187  \n",
       "1           20400  \n",
       "2           25726  \n",
       "3            4714  \n",
       "4           22827  "
      ]
     },
     "execution_count": 1,
     "metadata": {},
     "output_type": "execute_result"
    }
   ],
   "source": [
    "import great_expectations as ge\n",
    "from great_expectations.checkpoint import LegacyCheckpoint\n",
    "from great_expectations.profile.user_configurable_profiler import UserConfigurableProfiler\n",
    "from great_expectations.data_context.types.resource_identifiers import ValidationResultIdentifier\n",
    "\n",
    "context = ge.data_context.DataContext()\n",
    "\n",
    "expectation_suite_name = \"ygladkikh.ods_traffic.warning\"\n",
    "\n",
    "# Wipe the suite clean to prevent unwanted expectations in the batch\n",
    "suite = context.create_expectation_suite(expectation_suite_name, overwrite_existing=True)\n",
    "\n",
    "batch_kwargs = {'table': 'ods_traffic', 'schema': 'ygladkikh', 'data_asset_name': 'ygladkikh.ods_traffic', 'datasource': 'green'}\n",
    "batch = context.get_batch(batch_kwargs, suite)\n",
    "batch.head()"
   ]
  },
  {
   "cell_type": "markdown",
   "id": "70ea1ae1",
   "metadata": {},
   "source": [
    "## Select the columns on which you would like to scaffold expectations and those which you would like to ignore.\n",
    "\n",
    "Great Expectations will choose which expectations might make sense for a column based on the **data type** and **cardinality** of the data in each selected column.\n",
    "\n",
    "Simply comment out columns that are important and should be included. You can select multiple lines and\n",
    "use a jupyter keyboard shortcut to toggle each line: **Linux/Windows**:\n",
    "`Ctrl-/`, **macOS**: `Cmd-/`"
   ]
  },
  {
   "cell_type": "code",
   "execution_count": 2,
   "id": "95055f99",
   "metadata": {},
   "outputs": [],
   "source": [
    "ignored_columns = [\n",
    "#     'user_id',\n",
    "#     'time_stamp',\n",
    "#     'device_serial',\n",
    "#     'device_ip_addr',\n",
    "#     'bytes_sent',\n",
    "#     'bytes_received'\n",
    "]"
   ]
  },
  {
   "cell_type": "markdown",
   "id": "0e6b5c9a",
   "metadata": {},
   "source": [
    "## Run the scaffolder\n",
    "\n",
    "The suites generated here are **not meant to be production suites** - they are **scaffolds to build upon**.\n",
    "\n",
    "**To get to a production grade suite, you will definitely want to [edit this\n",
    "suite](https://docs.greatexpectations.io/en/latest/guides/how_to_guides/creating_and_editing_expectations/how_to_edit_an_expectation_suite_using_a_disposable_notebook.html?utm_source=notebook&utm_medium=scaffold_expectations)\n",
    "after scaffolding gets you close to what you want.**\n",
    "\n",
    "This is highly configurable depending on your goals.\n",
    "You can ignore columns or exclude certain expectations, specify a threshold for creating value set expectations, or even specify semantic types for a given column.\n",
    "You can find more information about [how to configure this profiler, including a list of the expectations that it uses, here.](https://docs.greatexpectations.io/en/latest/guides/how_to_guides/creating_and_editing_expectations/how_to_create_an_expectation_suite_with_the_user_configurable_profiler.html)\n",
    "\n"
   ]
  },
  {
   "cell_type": "code",
   "execution_count": 3,
   "id": "fbf1bab7",
   "metadata": {},
   "outputs": [
    {
     "name": "stderr",
     "output_type": "stream",
     "text": [
      "Using lossy conversion for decimal 10618.660805561235 to float object to support serialization.\n",
      "Using lossy conversion for decimal 1484524148855.4054 to float object to support serialization.\n",
      "Using lossy conversion for decimal 25076.108362298099 to float object to support serialization.\n",
      "Using lossy conversion for decimal 24931.390308730321 to float object to support serialization.\n"
     ]
    },
    {
     "name": "stdout",
     "output_type": "stream",
     "text": [
      "Creating an expectation suite with the following expectations:\n",
      "\n",
      "Table-Level Expectations\n",
      "expect_table_columns_to_match_ordered_list\n",
      "expect_table_row_count_to_be_between\n",
      "\n",
      "Expectations by Column\n",
      "Column Name: bytes_received | Column Data Type: INT | Cardinality: VERY_MANY\n",
      "expect_column_max_to_be_between\n",
      "expect_column_mean_to_be_between\n",
      "expect_column_median_to_be_between\n",
      "expect_column_min_to_be_between\n",
      "expect_column_proportion_of_unique_values_to_be_between\n",
      "expect_column_quantile_values_to_be_between\n",
      "expect_column_values_to_be_in_type_list\n",
      "expect_column_values_to_not_be_null\n",
      "\n",
      "\n",
      "Column Name: bytes_sent | Column Data Type: INT | Cardinality: VERY_MANY\n",
      "expect_column_max_to_be_between\n",
      "expect_column_mean_to_be_between\n",
      "expect_column_median_to_be_between\n",
      "expect_column_min_to_be_between\n",
      "expect_column_proportion_of_unique_values_to_be_between\n",
      "expect_column_quantile_values_to_be_between\n",
      "expect_column_values_to_be_in_type_list\n",
      "expect_column_values_to_not_be_null\n",
      "\n",
      "\n",
      "Column Name: device_ip_addr | Column Data Type: STRING | Cardinality: UNIQUE\n",
      "expect_column_proportion_of_unique_values_to_be_between\n",
      "expect_column_values_to_be_in_type_list\n",
      "expect_column_values_to_not_be_null\n",
      "\n",
      "\n",
      "Column Name: device_serial | Column Data Type: STRING | Cardinality: VERY_FEW\n",
      "expect_column_proportion_of_unique_values_to_be_between\n",
      "expect_column_values_to_be_in_set\n",
      "expect_column_values_to_be_in_type_list\n",
      "expect_column_values_to_not_be_null\n",
      "\n",
      "\n",
      "Column Name: time_stamp | Column Data Type: INT | Cardinality: VERY_MANY\n",
      "expect_column_max_to_be_between\n",
      "expect_column_mean_to_be_between\n",
      "expect_column_median_to_be_between\n",
      "expect_column_min_to_be_between\n",
      "expect_column_proportion_of_unique_values_to_be_between\n",
      "expect_column_quantile_values_to_be_between\n",
      "expect_column_values_to_be_in_type_list\n",
      "expect_column_values_to_not_be_null\n",
      "\n",
      "\n",
      "Column Name: user_id | Column Data Type: INT | Cardinality: MANY\n",
      "expect_column_max_to_be_between\n",
      "expect_column_mean_to_be_between\n",
      "expect_column_median_to_be_between\n",
      "expect_column_min_to_be_between\n",
      "expect_column_proportion_of_unique_values_to_be_between\n",
      "expect_column_quantile_values_to_be_between\n",
      "expect_column_values_to_be_in_set\n",
      "expect_column_values_to_be_in_type_list\n",
      "expect_column_values_to_not_be_null\n",
      "\n",
      "\n"
     ]
    }
   ],
   "source": [
    "profiler = UserConfigurableProfiler(profile_dataset=batch,\n",
    "    ignored_columns=ignored_columns,\n",
    "    excluded_expectations=None,\n",
    "    not_null_only=False,\n",
    "    primary_or_compound_key=False,\n",
    "    semantic_types_dict=None,\n",
    "    table_expectations_only=False,\n",
    "    value_set_threshold=\"MANY\",\n",
    "    )\n",
    "\n",
    "suite = profiler.build_suite()"
   ]
  },
  {
   "cell_type": "markdown",
   "id": "ce8aecd0",
   "metadata": {},
   "source": [
    "## Save & review the scaffolded Expectation Suite\n",
    "\n",
    "Let's save the scaffolded expectation suite as a JSON file in the\n",
    "`great_expectations/expectations` directory of your project and rebuild the Data\n",
    " Docs site to make it easy to review the scaffolded suite."
   ]
  },
  {
   "cell_type": "code",
   "execution_count": null,
   "id": "e8f73c5a",
   "metadata": {},
   "outputs": [
    {
     "name": "stderr",
     "output_type": "stream",
     "text": [
      "Using lossy conversion for decimal 10618.660805561235 to float object to support serialization.\n"
     ]
    }
   ],
   "source": [
    "context.save_expectation_suite(suite, expectation_suite_name)\n",
    "\n",
    "results = LegacyCheckpoint(\n",
    "    name=\"_temp_checkpoint\",\n",
    "    data_context=context,\n",
    "    batches=[\n",
    "        {\n",
    "          \"batch_kwargs\": batch_kwargs,\n",
    "          \"expectation_suite_names\": [expectation_suite_name]\n",
    "        }\n",
    "    ]\n",
    ").run()\n",
    "validation_result_identifier = results.list_validation_result_identifiers()[0]\n",
    "context.build_data_docs()\n",
    "context.open_data_docs(validation_result_identifier)"
   ]
  },
  {
   "cell_type": "markdown",
   "id": "94b84506",
   "metadata": {},
   "source": [
    "## Next steps\n",
    "After you review this scaffolded Expectation Suite in Data Docs you\n",
    "should edit this suite to make finer grained adjustments to the expectations.\n",
    "This can be done by running `great_expectations suite edit ygladkikh.ods_traffic.warning`."
   ]
  }
 ],
 "metadata": {
  "kernelspec": {
   "display_name": "Python 3",
   "language": "python",
   "name": "python3"
  },
  "language_info": {
   "codemirror_mode": {
    "name": "ipython",
    "version": 3
   },
   "file_extension": ".py",
   "mimetype": "text/x-python",
   "name": "python",
   "nbconvert_exporter": "python",
   "pygments_lexer": "ipython3",
   "version": "3.8.6"
  }
 },
 "nbformat": 4,
 "nbformat_minor": 5
}
